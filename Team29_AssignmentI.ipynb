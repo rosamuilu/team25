{
  "cells": [
    {
      "cell_type": "code",
      "execution_count": 7,
      "metadata": {
        "id": "uaj2StcJztNM"
      },
      "outputs": [
        {
          "ename": "FileNotFoundError",
          "evalue": "[Errno 2] No such file or directory: '/data.csv'",
          "output_type": "error",
          "traceback": [
            "\u001b[1;31m---------------------------------------------------------------------------\u001b[0m",
            "\u001b[1;31mFileNotFoundError\u001b[0m                         Traceback (most recent call last)",
            "Cell \u001b[1;32mIn[7], line 14\u001b[0m\n\u001b[0;32m      9\u001b[0m \u001b[38;5;28;01mfrom\u001b[39;00m \u001b[38;5;21;01msklearn\u001b[39;00m\u001b[38;5;21;01m.\u001b[39;00m\u001b[38;5;21;01mmodel_selection\u001b[39;00m \u001b[38;5;28;01mimport\u001b[39;00m GridSearchCV\n\u001b[0;32m     10\u001b[0m \u001b[38;5;28;01mfrom\u001b[39;00m \u001b[38;5;21;01msklearn\u001b[39;00m\u001b[38;5;21;01m.\u001b[39;00m\u001b[38;5;21;01mmetrics\u001b[39;00m \u001b[38;5;28;01mimport\u001b[39;00m mean_squared_error, mean_absolute_error, r2_score\n\u001b[1;32m---> 14\u001b[0m data \u001b[38;5;241m=\u001b[39m pd\u001b[38;5;241m.\u001b[39mread_csv(\u001b[38;5;124m\"\u001b[39m\u001b[38;5;124m/data.csv\u001b[39m\u001b[38;5;124m\"\u001b[39m)\n",
            "File \u001b[1;32mc:\\Users\\rosam\\anaconda3\\Lib\\site-packages\\pandas\\io\\parsers\\readers.py:948\u001b[0m, in \u001b[0;36mread_csv\u001b[1;34m(filepath_or_buffer, sep, delimiter, header, names, index_col, usecols, dtype, engine, converters, true_values, false_values, skipinitialspace, skiprows, skipfooter, nrows, na_values, keep_default_na, na_filter, verbose, skip_blank_lines, parse_dates, infer_datetime_format, keep_date_col, date_parser, date_format, dayfirst, cache_dates, iterator, chunksize, compression, thousands, decimal, lineterminator, quotechar, quoting, doublequote, escapechar, comment, encoding, encoding_errors, dialect, on_bad_lines, delim_whitespace, low_memory, memory_map, float_precision, storage_options, dtype_backend)\u001b[0m\n\u001b[0;32m    935\u001b[0m kwds_defaults \u001b[38;5;241m=\u001b[39m _refine_defaults_read(\n\u001b[0;32m    936\u001b[0m     dialect,\n\u001b[0;32m    937\u001b[0m     delimiter,\n\u001b[1;32m   (...)\u001b[0m\n\u001b[0;32m    944\u001b[0m     dtype_backend\u001b[38;5;241m=\u001b[39mdtype_backend,\n\u001b[0;32m    945\u001b[0m )\n\u001b[0;32m    946\u001b[0m kwds\u001b[38;5;241m.\u001b[39mupdate(kwds_defaults)\n\u001b[1;32m--> 948\u001b[0m \u001b[38;5;28;01mreturn\u001b[39;00m _read(filepath_or_buffer, kwds)\n",
            "File \u001b[1;32mc:\\Users\\rosam\\anaconda3\\Lib\\site-packages\\pandas\\io\\parsers\\readers.py:611\u001b[0m, in \u001b[0;36m_read\u001b[1;34m(filepath_or_buffer, kwds)\u001b[0m\n\u001b[0;32m    608\u001b[0m _validate_names(kwds\u001b[38;5;241m.\u001b[39mget(\u001b[38;5;124m\"\u001b[39m\u001b[38;5;124mnames\u001b[39m\u001b[38;5;124m\"\u001b[39m, \u001b[38;5;28;01mNone\u001b[39;00m))\n\u001b[0;32m    610\u001b[0m \u001b[38;5;66;03m# Create the parser.\u001b[39;00m\n\u001b[1;32m--> 611\u001b[0m parser \u001b[38;5;241m=\u001b[39m TextFileReader(filepath_or_buffer, \u001b[38;5;241m*\u001b[39m\u001b[38;5;241m*\u001b[39mkwds)\n\u001b[0;32m    613\u001b[0m \u001b[38;5;28;01mif\u001b[39;00m chunksize \u001b[38;5;129;01mor\u001b[39;00m iterator:\n\u001b[0;32m    614\u001b[0m     \u001b[38;5;28;01mreturn\u001b[39;00m parser\n",
            "File \u001b[1;32mc:\\Users\\rosam\\anaconda3\\Lib\\site-packages\\pandas\\io\\parsers\\readers.py:1448\u001b[0m, in \u001b[0;36mTextFileReader.__init__\u001b[1;34m(self, f, engine, **kwds)\u001b[0m\n\u001b[0;32m   1445\u001b[0m     \u001b[38;5;28mself\u001b[39m\u001b[38;5;241m.\u001b[39moptions[\u001b[38;5;124m\"\u001b[39m\u001b[38;5;124mhas_index_names\u001b[39m\u001b[38;5;124m\"\u001b[39m] \u001b[38;5;241m=\u001b[39m kwds[\u001b[38;5;124m\"\u001b[39m\u001b[38;5;124mhas_index_names\u001b[39m\u001b[38;5;124m\"\u001b[39m]\n\u001b[0;32m   1447\u001b[0m \u001b[38;5;28mself\u001b[39m\u001b[38;5;241m.\u001b[39mhandles: IOHandles \u001b[38;5;241m|\u001b[39m \u001b[38;5;28;01mNone\u001b[39;00m \u001b[38;5;241m=\u001b[39m \u001b[38;5;28;01mNone\u001b[39;00m\n\u001b[1;32m-> 1448\u001b[0m \u001b[38;5;28mself\u001b[39m\u001b[38;5;241m.\u001b[39m_engine \u001b[38;5;241m=\u001b[39m \u001b[38;5;28mself\u001b[39m\u001b[38;5;241m.\u001b[39m_make_engine(f, \u001b[38;5;28mself\u001b[39m\u001b[38;5;241m.\u001b[39mengine)\n",
            "File \u001b[1;32mc:\\Users\\rosam\\anaconda3\\Lib\\site-packages\\pandas\\io\\parsers\\readers.py:1705\u001b[0m, in \u001b[0;36mTextFileReader._make_engine\u001b[1;34m(self, f, engine)\u001b[0m\n\u001b[0;32m   1703\u001b[0m     \u001b[38;5;28;01mif\u001b[39;00m \u001b[38;5;124m\"\u001b[39m\u001b[38;5;124mb\u001b[39m\u001b[38;5;124m\"\u001b[39m \u001b[38;5;129;01mnot\u001b[39;00m \u001b[38;5;129;01min\u001b[39;00m mode:\n\u001b[0;32m   1704\u001b[0m         mode \u001b[38;5;241m+\u001b[39m\u001b[38;5;241m=\u001b[39m \u001b[38;5;124m\"\u001b[39m\u001b[38;5;124mb\u001b[39m\u001b[38;5;124m\"\u001b[39m\n\u001b[1;32m-> 1705\u001b[0m \u001b[38;5;28mself\u001b[39m\u001b[38;5;241m.\u001b[39mhandles \u001b[38;5;241m=\u001b[39m get_handle(\n\u001b[0;32m   1706\u001b[0m     f,\n\u001b[0;32m   1707\u001b[0m     mode,\n\u001b[0;32m   1708\u001b[0m     encoding\u001b[38;5;241m=\u001b[39m\u001b[38;5;28mself\u001b[39m\u001b[38;5;241m.\u001b[39moptions\u001b[38;5;241m.\u001b[39mget(\u001b[38;5;124m\"\u001b[39m\u001b[38;5;124mencoding\u001b[39m\u001b[38;5;124m\"\u001b[39m, \u001b[38;5;28;01mNone\u001b[39;00m),\n\u001b[0;32m   1709\u001b[0m     compression\u001b[38;5;241m=\u001b[39m\u001b[38;5;28mself\u001b[39m\u001b[38;5;241m.\u001b[39moptions\u001b[38;5;241m.\u001b[39mget(\u001b[38;5;124m\"\u001b[39m\u001b[38;5;124mcompression\u001b[39m\u001b[38;5;124m\"\u001b[39m, \u001b[38;5;28;01mNone\u001b[39;00m),\n\u001b[0;32m   1710\u001b[0m     memory_map\u001b[38;5;241m=\u001b[39m\u001b[38;5;28mself\u001b[39m\u001b[38;5;241m.\u001b[39moptions\u001b[38;5;241m.\u001b[39mget(\u001b[38;5;124m\"\u001b[39m\u001b[38;5;124mmemory_map\u001b[39m\u001b[38;5;124m\"\u001b[39m, \u001b[38;5;28;01mFalse\u001b[39;00m),\n\u001b[0;32m   1711\u001b[0m     is_text\u001b[38;5;241m=\u001b[39mis_text,\n\u001b[0;32m   1712\u001b[0m     errors\u001b[38;5;241m=\u001b[39m\u001b[38;5;28mself\u001b[39m\u001b[38;5;241m.\u001b[39moptions\u001b[38;5;241m.\u001b[39mget(\u001b[38;5;124m\"\u001b[39m\u001b[38;5;124mencoding_errors\u001b[39m\u001b[38;5;124m\"\u001b[39m, \u001b[38;5;124m\"\u001b[39m\u001b[38;5;124mstrict\u001b[39m\u001b[38;5;124m\"\u001b[39m),\n\u001b[0;32m   1713\u001b[0m     storage_options\u001b[38;5;241m=\u001b[39m\u001b[38;5;28mself\u001b[39m\u001b[38;5;241m.\u001b[39moptions\u001b[38;5;241m.\u001b[39mget(\u001b[38;5;124m\"\u001b[39m\u001b[38;5;124mstorage_options\u001b[39m\u001b[38;5;124m\"\u001b[39m, \u001b[38;5;28;01mNone\u001b[39;00m),\n\u001b[0;32m   1714\u001b[0m )\n\u001b[0;32m   1715\u001b[0m \u001b[38;5;28;01massert\u001b[39;00m \u001b[38;5;28mself\u001b[39m\u001b[38;5;241m.\u001b[39mhandles \u001b[38;5;129;01mis\u001b[39;00m \u001b[38;5;129;01mnot\u001b[39;00m \u001b[38;5;28;01mNone\u001b[39;00m\n\u001b[0;32m   1716\u001b[0m f \u001b[38;5;241m=\u001b[39m \u001b[38;5;28mself\u001b[39m\u001b[38;5;241m.\u001b[39mhandles\u001b[38;5;241m.\u001b[39mhandle\n",
            "File \u001b[1;32mc:\\Users\\rosam\\anaconda3\\Lib\\site-packages\\pandas\\io\\common.py:863\u001b[0m, in \u001b[0;36mget_handle\u001b[1;34m(path_or_buf, mode, encoding, compression, memory_map, is_text, errors, storage_options)\u001b[0m\n\u001b[0;32m    858\u001b[0m \u001b[38;5;28;01melif\u001b[39;00m \u001b[38;5;28misinstance\u001b[39m(handle, \u001b[38;5;28mstr\u001b[39m):\n\u001b[0;32m    859\u001b[0m     \u001b[38;5;66;03m# Check whether the filename is to be opened in binary mode.\u001b[39;00m\n\u001b[0;32m    860\u001b[0m     \u001b[38;5;66;03m# Binary mode does not support 'encoding' and 'newline'.\u001b[39;00m\n\u001b[0;32m    861\u001b[0m     \u001b[38;5;28;01mif\u001b[39;00m ioargs\u001b[38;5;241m.\u001b[39mencoding \u001b[38;5;129;01mand\u001b[39;00m \u001b[38;5;124m\"\u001b[39m\u001b[38;5;124mb\u001b[39m\u001b[38;5;124m\"\u001b[39m \u001b[38;5;129;01mnot\u001b[39;00m \u001b[38;5;129;01min\u001b[39;00m ioargs\u001b[38;5;241m.\u001b[39mmode:\n\u001b[0;32m    862\u001b[0m         \u001b[38;5;66;03m# Encoding\u001b[39;00m\n\u001b[1;32m--> 863\u001b[0m         handle \u001b[38;5;241m=\u001b[39m \u001b[38;5;28mopen\u001b[39m(\n\u001b[0;32m    864\u001b[0m             handle,\n\u001b[0;32m    865\u001b[0m             ioargs\u001b[38;5;241m.\u001b[39mmode,\n\u001b[0;32m    866\u001b[0m             encoding\u001b[38;5;241m=\u001b[39mioargs\u001b[38;5;241m.\u001b[39mencoding,\n\u001b[0;32m    867\u001b[0m             errors\u001b[38;5;241m=\u001b[39merrors,\n\u001b[0;32m    868\u001b[0m             newline\u001b[38;5;241m=\u001b[39m\u001b[38;5;124m\"\u001b[39m\u001b[38;5;124m\"\u001b[39m,\n\u001b[0;32m    869\u001b[0m         )\n\u001b[0;32m    870\u001b[0m     \u001b[38;5;28;01melse\u001b[39;00m:\n\u001b[0;32m    871\u001b[0m         \u001b[38;5;66;03m# Binary mode\u001b[39;00m\n\u001b[0;32m    872\u001b[0m         handle \u001b[38;5;241m=\u001b[39m \u001b[38;5;28mopen\u001b[39m(handle, ioargs\u001b[38;5;241m.\u001b[39mmode)\n",
            "\u001b[1;31mFileNotFoundError\u001b[0m: [Errno 2] No such file or directory: '/data.csv'"
          ]
        }
      ],
      "source": [
        "import numpy as np\n",
        "from sklearn.linear_model import LinearRegression\n",
        "import matplotlib.pyplot as plt\n",
        "import pandas as pd\n",
        "from sklearn.model_selection import train_test_split\n",
        "from sklearn import metrics\n",
        "import seaborn as sns\n",
        "from sklearn.preprocessing import StandardScaler\n",
        "from sklearn.model_selection import GridSearchCV\n",
        "from sklearn.metrics import mean_squared_error, mean_absolute_error, r2_score\n",
        "\n",
        "\n",
        "\n",
        "data = pd.read_csv(\"/data.csv\")"
      ]
    },
    {
      "cell_type": "code",
      "execution_count": null,
      "metadata": {
        "colab": {
          "base_uri": "https://localhost:8080/",
          "height": 656
        },
        "id": "0yk3sip64Nyd",
        "outputId": "ac8478a1-62e1-4efd-89f6-b077e2d827cb"
      },
      "outputs": [
        {
          "name": "stdout",
          "output_type": "stream",
          "text": [
            "<class 'pandas.core.frame.DataFrame'>\n",
            "RangeIndex: 8760 entries, 0 to 8759\n",
            "Data columns (total 11 columns):\n",
            " #   Column                          Non-Null Count  Dtype  \n",
            "---  ------                          --------------  -----  \n",
            " 0   Date                            8760 non-null   object \n",
            " 1   Rented Bike Count               8760 non-null   int64  \n",
            " 2   Hour                            8760 non-null   int64  \n",
            " 3   Temperature(Celsius)            8760 non-null   float64\n",
            " 4   Humidity(%)                     8760 non-null   int64  \n",
            " 5   Wind speed (m/s)                8760 non-null   float64\n",
            " 6   Visibility (10m)                8760 non-null   int64  \n",
            " 7   Dew point temperature(Celsius)  8760 non-null   float64\n",
            " 8   Solar Radiation (MJ/m2)         8760 non-null   float64\n",
            " 9   Rainfall(mm)                    8760 non-null   float64\n",
            " 10  Snowfall (cm)                   8760 non-null   float64\n",
            "dtypes: float64(6), int64(4), object(1)\n",
            "memory usage: 752.9+ KB\n"
          ]
        },
        {
          "data": {
            "application/vnd.google.colaboratory.intrinsic+json": {
              "summary": "{\n  \"name\": \"data\",\n  \"rows\": 8,\n  \"fields\": [\n    {\n      \"column\": \"Rented Bike Count\",\n      \"properties\": {\n        \"dtype\": \"number\",\n        \"std\": 2975.481909410127,\n        \"min\": 0.0,\n        \"max\": 8760.0,\n        \"num_unique_values\": 8,\n        \"samples\": [\n          704.6020547945205,\n          504.5,\n          8760.0\n        ],\n        \"semantic_type\": \"\",\n        \"description\": \"\"\n      }\n    },\n    {\n      \"column\": \"Hour\",\n      \"properties\": {\n        \"dtype\": \"number\",\n        \"std\": 3093.301081448627,\n        \"min\": 0.0,\n        \"max\": 8760.0,\n        \"num_unique_values\": 7,\n        \"samples\": [\n          8760.0,\n          11.5,\n          17.25\n        ],\n        \"semantic_type\": \"\",\n        \"description\": \"\"\n      }\n    },\n    {\n      \"column\": \"Temperature(Celsius)\",\n      \"properties\": {\n        \"dtype\": \"number\",\n        \"std\": 3092.8197264602477,\n        \"min\": -17.8,\n        \"max\": 8760.0,\n        \"num_unique_values\": 8,\n        \"samples\": [\n          12.882922374429223,\n          13.7,\n          8760.0\n        ],\n        \"semantic_type\": \"\",\n        \"description\": \"\"\n      }\n    },\n    {\n      \"column\": \"Humidity(%)\",\n      \"properties\": {\n        \"dtype\": \"number\",\n        \"std\": 3079.6201576982858,\n        \"min\": 0.0,\n        \"max\": 8760.0,\n        \"num_unique_values\": 8,\n        \"samples\": [\n          58.226255707762554,\n          57.0,\n          8760.0\n        ],\n        \"semantic_type\": \"\",\n        \"description\": \"\"\n      }\n    },\n    {\n      \"column\": \"Wind speed (m/s)\",\n      \"properties\": {\n        \"dtype\": \"number\",\n        \"std\": 3096.377918640277,\n        \"min\": 0.0,\n        \"max\": 8760.0,\n        \"num_unique_values\": 8,\n        \"samples\": [\n          1.7249086757990868,\n          1.5,\n          8760.0\n        ],\n        \"semantic_type\": \"\",\n        \"description\": \"\"\n      }\n    },\n    {\n      \"column\": \"Visibility (10m)\",\n      \"properties\": {\n        \"dtype\": \"number\",\n        \"std\": 2746.139430334966,\n        \"min\": 27.0,\n        \"max\": 8760.0,\n        \"num_unique_values\": 7,\n        \"samples\": [\n          8760.0,\n          1436.825799086758,\n          1698.0\n        ],\n        \"semantic_type\": \"\",\n        \"description\": \"\"\n      }\n    },\n    {\n      \"column\": \"Dew point temperature(Celsius)\",\n      \"properties\": {\n        \"dtype\": \"number\",\n        \"std\": 3095.7127035855206,\n        \"min\": -30.6,\n        \"max\": 8760.0,\n        \"num_unique_values\": 8,\n        \"samples\": [\n          4.073812785388128,\n          5.1,\n          8760.0\n        ],\n        \"semantic_type\": \"\",\n        \"description\": \"\"\n      }\n    },\n    {\n      \"column\": \"Solar Radiation (MJ/m2)\",\n      \"properties\": {\n        \"dtype\": \"number\",\n        \"std\": 3096.8300308344556,\n        \"min\": 0.0,\n        \"max\": 8760.0,\n        \"num_unique_values\": 7,\n        \"samples\": [\n          8760.0,\n          0.5691107305936072,\n          0.93\n        ],\n        \"semantic_type\": \"\",\n        \"description\": \"\"\n      }\n    },\n    {\n      \"column\": \"Rainfall(mm)\",\n      \"properties\": {\n        \"dtype\": \"number\",\n        \"std\": 3095.3194025316275,\n        \"min\": 0.0,\n        \"max\": 8760.0,\n        \"num_unique_values\": 5,\n        \"samples\": [\n          0.14868721461187215,\n          35.0,\n          1.1281929687322043\n        ],\n        \"semantic_type\": \"\",\n        \"description\": \"\"\n      }\n    },\n    {\n      \"column\": \"Snowfall (cm)\",\n      \"properties\": {\n        \"dtype\": \"number\",\n        \"std\": 3096.6588889942395,\n        \"min\": 0.0,\n        \"max\": 8760.0,\n        \"num_unique_values\": 5,\n        \"samples\": [\n          0.07506849315068494,\n          8.8,\n          0.4367461811250087\n        ],\n        \"semantic_type\": \"\",\n        \"description\": \"\"\n      }\n    }\n  ]\n}",
              "type": "dataframe"
            },
            "text/html": [
              "\n",
              "  <div id=\"df-06b7e44d-6ca3-4d04-8472-f619be8fa96f\" class=\"colab-df-container\">\n",
              "    <div>\n",
              "<style scoped>\n",
              "    .dataframe tbody tr th:only-of-type {\n",
              "        vertical-align: middle;\n",
              "    }\n",
              "\n",
              "    .dataframe tbody tr th {\n",
              "        vertical-align: top;\n",
              "    }\n",
              "\n",
              "    .dataframe thead th {\n",
              "        text-align: right;\n",
              "    }\n",
              "</style>\n",
              "<table border=\"1\" class=\"dataframe\">\n",
              "  <thead>\n",
              "    <tr style=\"text-align: right;\">\n",
              "      <th></th>\n",
              "      <th>Rented Bike Count</th>\n",
              "      <th>Hour</th>\n",
              "      <th>Temperature(Celsius)</th>\n",
              "      <th>Humidity(%)</th>\n",
              "      <th>Wind speed (m/s)</th>\n",
              "      <th>Visibility (10m)</th>\n",
              "      <th>Dew point temperature(Celsius)</th>\n",
              "      <th>Solar Radiation (MJ/m2)</th>\n",
              "      <th>Rainfall(mm)</th>\n",
              "      <th>Snowfall (cm)</th>\n",
              "    </tr>\n",
              "  </thead>\n",
              "  <tbody>\n",
              "    <tr>\n",
              "      <th>count</th>\n",
              "      <td>8760.000000</td>\n",
              "      <td>8760.000000</td>\n",
              "      <td>8760.000000</td>\n",
              "      <td>8760.000000</td>\n",
              "      <td>8760.000000</td>\n",
              "      <td>8760.000000</td>\n",
              "      <td>8760.000000</td>\n",
              "      <td>8760.000000</td>\n",
              "      <td>8760.000000</td>\n",
              "      <td>8760.000000</td>\n",
              "    </tr>\n",
              "    <tr>\n",
              "      <th>mean</th>\n",
              "      <td>704.602055</td>\n",
              "      <td>11.500000</td>\n",
              "      <td>12.882922</td>\n",
              "      <td>58.226256</td>\n",
              "      <td>1.724909</td>\n",
              "      <td>1436.825799</td>\n",
              "      <td>4.073813</td>\n",
              "      <td>0.569111</td>\n",
              "      <td>0.148687</td>\n",
              "      <td>0.075068</td>\n",
              "    </tr>\n",
              "    <tr>\n",
              "      <th>std</th>\n",
              "      <td>644.997468</td>\n",
              "      <td>6.922582</td>\n",
              "      <td>11.944825</td>\n",
              "      <td>20.362413</td>\n",
              "      <td>1.036300</td>\n",
              "      <td>608.298712</td>\n",
              "      <td>13.060369</td>\n",
              "      <td>0.868746</td>\n",
              "      <td>1.128193</td>\n",
              "      <td>0.436746</td>\n",
              "    </tr>\n",
              "    <tr>\n",
              "      <th>min</th>\n",
              "      <td>0.000000</td>\n",
              "      <td>0.000000</td>\n",
              "      <td>-17.800000</td>\n",
              "      <td>0.000000</td>\n",
              "      <td>0.000000</td>\n",
              "      <td>27.000000</td>\n",
              "      <td>-30.600000</td>\n",
              "      <td>0.000000</td>\n",
              "      <td>0.000000</td>\n",
              "      <td>0.000000</td>\n",
              "    </tr>\n",
              "    <tr>\n",
              "      <th>25%</th>\n",
              "      <td>191.000000</td>\n",
              "      <td>5.750000</td>\n",
              "      <td>3.500000</td>\n",
              "      <td>42.000000</td>\n",
              "      <td>0.900000</td>\n",
              "      <td>940.000000</td>\n",
              "      <td>-4.700000</td>\n",
              "      <td>0.000000</td>\n",
              "      <td>0.000000</td>\n",
              "      <td>0.000000</td>\n",
              "    </tr>\n",
              "    <tr>\n",
              "      <th>50%</th>\n",
              "      <td>504.500000</td>\n",
              "      <td>11.500000</td>\n",
              "      <td>13.700000</td>\n",
              "      <td>57.000000</td>\n",
              "      <td>1.500000</td>\n",
              "      <td>1698.000000</td>\n",
              "      <td>5.100000</td>\n",
              "      <td>0.010000</td>\n",
              "      <td>0.000000</td>\n",
              "      <td>0.000000</td>\n",
              "    </tr>\n",
              "    <tr>\n",
              "      <th>75%</th>\n",
              "      <td>1065.250000</td>\n",
              "      <td>17.250000</td>\n",
              "      <td>22.500000</td>\n",
              "      <td>74.000000</td>\n",
              "      <td>2.300000</td>\n",
              "      <td>2000.000000</td>\n",
              "      <td>14.800000</td>\n",
              "      <td>0.930000</td>\n",
              "      <td>0.000000</td>\n",
              "      <td>0.000000</td>\n",
              "    </tr>\n",
              "    <tr>\n",
              "      <th>max</th>\n",
              "      <td>3556.000000</td>\n",
              "      <td>23.000000</td>\n",
              "      <td>39.400000</td>\n",
              "      <td>98.000000</td>\n",
              "      <td>7.400000</td>\n",
              "      <td>2000.000000</td>\n",
              "      <td>27.200000</td>\n",
              "      <td>3.520000</td>\n",
              "      <td>35.000000</td>\n",
              "      <td>8.800000</td>\n",
              "    </tr>\n",
              "  </tbody>\n",
              "</table>\n",
              "</div>\n",
              "    <div class=\"colab-df-buttons\">\n",
              "\n",
              "  <div class=\"colab-df-container\">\n",
              "    <button class=\"colab-df-convert\" onclick=\"convertToInteractive('df-06b7e44d-6ca3-4d04-8472-f619be8fa96f')\"\n",
              "            title=\"Convert this dataframe to an interactive table.\"\n",
              "            style=\"display:none;\">\n",
              "\n",
              "  <svg xmlns=\"http://www.w3.org/2000/svg\" height=\"24px\" viewBox=\"0 -960 960 960\">\n",
              "    <path d=\"M120-120v-720h720v720H120Zm60-500h600v-160H180v160Zm220 220h160v-160H400v160Zm0 220h160v-160H400v160ZM180-400h160v-160H180v160Zm440 0h160v-160H620v160ZM180-180h160v-160H180v160Zm440 0h160v-160H620v160Z\"/>\n",
              "  </svg>\n",
              "    </button>\n",
              "\n",
              "  <style>\n",
              "    .colab-df-container {\n",
              "      display:flex;\n",
              "      gap: 12px;\n",
              "    }\n",
              "\n",
              "    .colab-df-convert {\n",
              "      background-color: #E8F0FE;\n",
              "      border: none;\n",
              "      border-radius: 50%;\n",
              "      cursor: pointer;\n",
              "      display: none;\n",
              "      fill: #1967D2;\n",
              "      height: 32px;\n",
              "      padding: 0 0 0 0;\n",
              "      width: 32px;\n",
              "    }\n",
              "\n",
              "    .colab-df-convert:hover {\n",
              "      background-color: #E2EBFA;\n",
              "      box-shadow: 0px 1px 2px rgba(60, 64, 67, 0.3), 0px 1px 3px 1px rgba(60, 64, 67, 0.15);\n",
              "      fill: #174EA6;\n",
              "    }\n",
              "\n",
              "    .colab-df-buttons div {\n",
              "      margin-bottom: 4px;\n",
              "    }\n",
              "\n",
              "    [theme=dark] .colab-df-convert {\n",
              "      background-color: #3B4455;\n",
              "      fill: #D2E3FC;\n",
              "    }\n",
              "\n",
              "    [theme=dark] .colab-df-convert:hover {\n",
              "      background-color: #434B5C;\n",
              "      box-shadow: 0px 1px 3px 1px rgba(0, 0, 0, 0.15);\n",
              "      filter: drop-shadow(0px 1px 2px rgba(0, 0, 0, 0.3));\n",
              "      fill: #FFFFFF;\n",
              "    }\n",
              "  </style>\n",
              "\n",
              "    <script>\n",
              "      const buttonEl =\n",
              "        document.querySelector('#df-06b7e44d-6ca3-4d04-8472-f619be8fa96f button.colab-df-convert');\n",
              "      buttonEl.style.display =\n",
              "        google.colab.kernel.accessAllowed ? 'block' : 'none';\n",
              "\n",
              "      async function convertToInteractive(key) {\n",
              "        const element = document.querySelector('#df-06b7e44d-6ca3-4d04-8472-f619be8fa96f');\n",
              "        const dataTable =\n",
              "          await google.colab.kernel.invokeFunction('convertToInteractive',\n",
              "                                                    [key], {});\n",
              "        if (!dataTable) return;\n",
              "\n",
              "        const docLinkHtml = 'Like what you see? Visit the ' +\n",
              "          '<a target=\"_blank\" href=https://colab.research.google.com/notebooks/data_table.ipynb>data table notebook</a>'\n",
              "          + ' to learn more about interactive tables.';\n",
              "        element.innerHTML = '';\n",
              "        dataTable['output_type'] = 'display_data';\n",
              "        await google.colab.output.renderOutput(dataTable, element);\n",
              "        const docLink = document.createElement('div');\n",
              "        docLink.innerHTML = docLinkHtml;\n",
              "        element.appendChild(docLink);\n",
              "      }\n",
              "    </script>\n",
              "  </div>\n",
              "\n",
              "\n",
              "<div id=\"df-d06d44ea-ece5-4d09-8947-7bbea2355252\">\n",
              "  <button class=\"colab-df-quickchart\" onclick=\"quickchart('df-d06d44ea-ece5-4d09-8947-7bbea2355252')\"\n",
              "            title=\"Suggest charts\"\n",
              "            style=\"display:none;\">\n",
              "\n",
              "<svg xmlns=\"http://www.w3.org/2000/svg\" height=\"24px\"viewBox=\"0 0 24 24\"\n",
              "     width=\"24px\">\n",
              "    <g>\n",
              "        <path d=\"M19 3H5c-1.1 0-2 .9-2 2v14c0 1.1.9 2 2 2h14c1.1 0 2-.9 2-2V5c0-1.1-.9-2-2-2zM9 17H7v-7h2v7zm4 0h-2V7h2v10zm4 0h-2v-4h2v4z\"/>\n",
              "    </g>\n",
              "</svg>\n",
              "  </button>\n",
              "\n",
              "<style>\n",
              "  .colab-df-quickchart {\n",
              "      --bg-color: #E8F0FE;\n",
              "      --fill-color: #1967D2;\n",
              "      --hover-bg-color: #E2EBFA;\n",
              "      --hover-fill-color: #174EA6;\n",
              "      --disabled-fill-color: #AAA;\n",
              "      --disabled-bg-color: #DDD;\n",
              "  }\n",
              "\n",
              "  [theme=dark] .colab-df-quickchart {\n",
              "      --bg-color: #3B4455;\n",
              "      --fill-color: #D2E3FC;\n",
              "      --hover-bg-color: #434B5C;\n",
              "      --hover-fill-color: #FFFFFF;\n",
              "      --disabled-bg-color: #3B4455;\n",
              "      --disabled-fill-color: #666;\n",
              "  }\n",
              "\n",
              "  .colab-df-quickchart {\n",
              "    background-color: var(--bg-color);\n",
              "    border: none;\n",
              "    border-radius: 50%;\n",
              "    cursor: pointer;\n",
              "    display: none;\n",
              "    fill: var(--fill-color);\n",
              "    height: 32px;\n",
              "    padding: 0;\n",
              "    width: 32px;\n",
              "  }\n",
              "\n",
              "  .colab-df-quickchart:hover {\n",
              "    background-color: var(--hover-bg-color);\n",
              "    box-shadow: 0 1px 2px rgba(60, 64, 67, 0.3), 0 1px 3px 1px rgba(60, 64, 67, 0.15);\n",
              "    fill: var(--button-hover-fill-color);\n",
              "  }\n",
              "\n",
              "  .colab-df-quickchart-complete:disabled,\n",
              "  .colab-df-quickchart-complete:disabled:hover {\n",
              "    background-color: var(--disabled-bg-color);\n",
              "    fill: var(--disabled-fill-color);\n",
              "    box-shadow: none;\n",
              "  }\n",
              "\n",
              "  .colab-df-spinner {\n",
              "    border: 2px solid var(--fill-color);\n",
              "    border-color: transparent;\n",
              "    border-bottom-color: var(--fill-color);\n",
              "    animation:\n",
              "      spin 1s steps(1) infinite;\n",
              "  }\n",
              "\n",
              "  @keyframes spin {\n",
              "    0% {\n",
              "      border-color: transparent;\n",
              "      border-bottom-color: var(--fill-color);\n",
              "      border-left-color: var(--fill-color);\n",
              "    }\n",
              "    20% {\n",
              "      border-color: transparent;\n",
              "      border-left-color: var(--fill-color);\n",
              "      border-top-color: var(--fill-color);\n",
              "    }\n",
              "    30% {\n",
              "      border-color: transparent;\n",
              "      border-left-color: var(--fill-color);\n",
              "      border-top-color: var(--fill-color);\n",
              "      border-right-color: var(--fill-color);\n",
              "    }\n",
              "    40% {\n",
              "      border-color: transparent;\n",
              "      border-right-color: var(--fill-color);\n",
              "      border-top-color: var(--fill-color);\n",
              "    }\n",
              "    60% {\n",
              "      border-color: transparent;\n",
              "      border-right-color: var(--fill-color);\n",
              "    }\n",
              "    80% {\n",
              "      border-color: transparent;\n",
              "      border-right-color: var(--fill-color);\n",
              "      border-bottom-color: var(--fill-color);\n",
              "    }\n",
              "    90% {\n",
              "      border-color: transparent;\n",
              "      border-bottom-color: var(--fill-color);\n",
              "    }\n",
              "  }\n",
              "</style>\n",
              "\n",
              "  <script>\n",
              "    async function quickchart(key) {\n",
              "      const quickchartButtonEl =\n",
              "        document.querySelector('#' + key + ' button');\n",
              "      quickchartButtonEl.disabled = true;  // To prevent multiple clicks.\n",
              "      quickchartButtonEl.classList.add('colab-df-spinner');\n",
              "      try {\n",
              "        const charts = await google.colab.kernel.invokeFunction(\n",
              "            'suggestCharts', [key], {});\n",
              "      } catch (error) {\n",
              "        console.error('Error during call to suggestCharts:', error);\n",
              "      }\n",
              "      quickchartButtonEl.classList.remove('colab-df-spinner');\n",
              "      quickchartButtonEl.classList.add('colab-df-quickchart-complete');\n",
              "    }\n",
              "    (() => {\n",
              "      let quickchartButtonEl =\n",
              "        document.querySelector('#df-d06d44ea-ece5-4d09-8947-7bbea2355252 button');\n",
              "      quickchartButtonEl.style.display =\n",
              "        google.colab.kernel.accessAllowed ? 'block' : 'none';\n",
              "    })();\n",
              "  </script>\n",
              "</div>\n",
              "\n",
              "    </div>\n",
              "  </div>\n"
            ],
            "text/plain": [
              "       Rented Bike Count         Hour  Temperature(Celsius)  Humidity(%)  \\\n",
              "count        8760.000000  8760.000000           8760.000000  8760.000000   \n",
              "mean          704.602055    11.500000             12.882922    58.226256   \n",
              "std           644.997468     6.922582             11.944825    20.362413   \n",
              "min             0.000000     0.000000            -17.800000     0.000000   \n",
              "25%           191.000000     5.750000              3.500000    42.000000   \n",
              "50%           504.500000    11.500000             13.700000    57.000000   \n",
              "75%          1065.250000    17.250000             22.500000    74.000000   \n",
              "max          3556.000000    23.000000             39.400000    98.000000   \n",
              "\n",
              "       Wind speed (m/s)  Visibility (10m)  Dew point temperature(Celsius)  \\\n",
              "count       8760.000000       8760.000000                     8760.000000   \n",
              "mean           1.724909       1436.825799                        4.073813   \n",
              "std            1.036300        608.298712                       13.060369   \n",
              "min            0.000000         27.000000                      -30.600000   \n",
              "25%            0.900000        940.000000                       -4.700000   \n",
              "50%            1.500000       1698.000000                        5.100000   \n",
              "75%            2.300000       2000.000000                       14.800000   \n",
              "max            7.400000       2000.000000                       27.200000   \n",
              "\n",
              "       Solar Radiation (MJ/m2)  Rainfall(mm)  Snowfall (cm)  \n",
              "count              8760.000000   8760.000000    8760.000000  \n",
              "mean                  0.569111      0.148687       0.075068  \n",
              "std                   0.868746      1.128193       0.436746  \n",
              "min                   0.000000      0.000000       0.000000  \n",
              "25%                   0.000000      0.000000       0.000000  \n",
              "50%                   0.010000      0.000000       0.000000  \n",
              "75%                   0.930000      0.000000       0.000000  \n",
              "max                   3.520000     35.000000       8.800000  "
            ]
          },
          "execution_count": 45,
          "metadata": {},
          "output_type": "execute_result"
        }
      ],
      "source": [
        "data.info()\n",
        "data.describe()"
      ]
    },
    {
      "cell_type": "markdown",
      "metadata": {
        "id": "S91BxWPf4XWw"
      },
      "source": [
        " Variables that need conversion, date is a string so should be converted."
      ]
    },
    {
      "cell_type": "code",
      "execution_count": null,
      "metadata": {
        "id": "dxQeryOD4Z0Q"
      },
      "outputs": [],
      "source": [
        "data['Date'] = pd.to_datetime(data['Date'], format='%d/%m/%Y')"
      ]
    },
    {
      "cell_type": "markdown",
      "metadata": {
        "id": "U9QIgT154nrG"
      },
      "source": [
        "EXPLANATORY DATA ANALYSIS"
      ]
    },
    {
      "cell_type": "markdown",
      "metadata": {
        "id": "HHZ0qOFr4uzi"
      },
      "source": [
        "Target variable: Rented bike count"
      ]
    },
    {
      "cell_type": "code",
      "execution_count": null,
      "metadata": {
        "colab": {
          "base_uri": "https://localhost:8080/",
          "height": 564
        },
        "id": "lI6iEZ9-4yV1",
        "outputId": "13ae4d36-40d6-49cb-9e96-5c543b1994c4"
      },
      "outputs": [
        {
          "data": {
            "image/png": "[encoded data removed]",
            "text/plain": [
              "<Figure size 1200x600 with 2 Axes>"
            ]
          },
          "metadata": {},
          "output_type": "display_data"
        }
      ],
      "source": [
        "rented_bike_count = data['Rented Bike Count']\n",
        "plt.figure(figsize=(12, 6))\n",
        "plt.subplot(1, 2, 1)\n",
        "plt.hist(rented_bike_count, bins=30, color='skyblue', alpha=0.7, edgecolor='black', density=True, label='Histogram')\n",
        "\n",
        "plt.subplot(1, 2, 2)\n",
        "sns.boxplot(x=data['Rented Bike Count'])\n",
        "plt.title('Box Plot of Rented Bike Count')\n",
        "plt.show()\n"
      ]
    },
    {
      "cell_type": "markdown",
      "metadata": {
        "id": "AaFT1AHF5bYd"
      },
      "source": [
        "HOUR"
      ]
    },
    {
      "cell_type": "code",
      "execution_count": null,
      "metadata": {
        "colab": {
          "base_uri": "https://localhost:8080/",
          "height": 564
        },
        "id": "uPthPXzl5sKN",
        "outputId": "3e09ec16-08fd-46d5-f0c6-10f2ac49f1ab"
      },
      "outputs": [
        {
          "data": {
            "image/png": "[encoded data removed]",
            "text/plain": [
              "<Figure size 800x600 with 1 Axes>"
            ]
          },
          "metadata": {},
          "output_type": "display_data"
        }
      ],
      "source": [
        "plt.figure(figsize=(8, 6))\n",
        "sns.boxplot(x=data['Hour'], color='lightgreen')\n",
        "plt.title('Boxplot of Hour')\n",
        "plt.xlabel('Hour')\n",
        "plt.show()\n",
        "\n"
      ]
    },
    {
      "cell_type": "markdown",
      "metadata": {
        "id": "Seoz986z7it-"
      },
      "source": [
        "Temperature"
      ]
    },
    {
      "cell_type": "code",
      "execution_count": null,
      "metadata": {
        "colab": {
          "base_uri": "https://localhost:8080/",
          "height": 564
        },
        "id": "ZlVtcxVi7mem",
        "outputId": "df9ad010-e0ea-46f2-b7a6-877e7dece41d"
      },
      "outputs": [
        {
          "data": {
            "image/png": "[encoded data removed]",
            "text/plain": [
              "<Figure size 1200x600 with 2 Axes>"
            ]
          },
          "metadata": {},
          "output_type": "display_data"
        }
      ],
      "source": [
        "\n",
        "plt.figure(figsize=(12, 6))\n",
        "plt.subplot(1, 2, 1)\n",
        "plt.hist(data['Temperature(Celsius)'], bins=30, color='skyblue', alpha=0.7, edgecolor='black', density=True, label='Histogram')\n",
        "\n",
        "plt.subplot(1, 2, 2)\n",
        "sns.boxplot(x=data['Temperature(Celsius)'])\n",
        "plt.title('Box Plot of Temperature')\n",
        "plt.show()\n"
      ]
    },
    {
      "cell_type": "markdown",
      "metadata": {
        "id": "qGKfgwXs8KGT"
      },
      "source": [
        "Humidity"
      ]
    },
    {
      "cell_type": "code",
      "execution_count": null,
      "metadata": {
        "colab": {
          "base_uri": "https://localhost:8080/",
          "height": 564
        },
        "id": "pUZjOIg28R-C",
        "outputId": "642b4f4b-5db8-4e81-bb62-13169e260238"
      },
      "outputs": [
        {
          "data": {
            "image/png": "[encoded data removed]",
            "text/plain": [
              "<Figure size 1200x600 with 2 Axes>"
            ]
          },
          "metadata": {},
          "output_type": "display_data"
        }
      ],
      "source": [
        "plt.figure(figsize=(12, 6))\n",
        "plt.subplot(1, 2, 1)\n",
        "plt.hist(data['Humidity(%)'], bins=30, color='skyblue', alpha=0.7, edgecolor='black', density=True, label='Histogram')\n",
        "\n",
        "plt.subplot(1, 2, 2)\n",
        "sns.boxplot(x=data['Humidity(%)'])\n",
        "plt.title('Box Plot of Humidity')\n",
        "plt.show()"
      ]
    },
    {
      "cell_type": "markdown",
      "metadata": {
        "id": "zmeVSBCS8p9L"
      },
      "source": [
        "Wind Speed"
      ]
    },
    {
      "cell_type": "code",
      "execution_count": null,
      "metadata": {
        "colab": {
          "base_uri": "https://localhost:8080/",
          "height": 564
        },
        "id": "JWefxFzE8zoD",
        "outputId": "02715f69-ffd9-429c-f252-25b9edce64bc"
      },
      "outputs": [
        {
          "data": {
            "image/png": "[encoded data removed]",
            "text/plain": [
              "<Figure size 1200x600 with 2 Axes>"
            ]
          },
          "metadata": {},
          "output_type": "display_data"
        }
      ],
      "source": [
        "plt.figure(figsize=(12, 6))\n",
        "plt.subplot(1, 2, 1)\n",
        "plt.hist(data['Wind speed (m/s)'], bins=30, color='skyblue', alpha=0.7, edgecolor='black', density=True, label='Histogram')\n",
        "\n",
        "plt.subplot(1, 2, 2)\n",
        "sns.boxplot(x=data['Wind speed (m/s)'])\n",
        "plt.title('Box Plot of Wind speed')\n",
        "plt.show()"
      ]
    },
    {
      "cell_type": "markdown",
      "metadata": {
        "id": "xnUAccLu9Lx4"
      },
      "source": [
        "Visibility"
      ]
    },
    {
      "cell_type": "code",
      "execution_count": null,
      "metadata": {
        "colab": {
          "base_uri": "https://localhost:8080/",
          "height": 564
        },
        "id": "_f5vXg009NzX",
        "outputId": "d6e11506-cdf7-4760-f9bc-3d847afc47c2"
      },
      "outputs": [
        {
          "data": {
            "image/png": "[encoded data removed]",
            "text/plain": [
              "<Figure size 1200x600 with 2 Axes>"
            ]
          },
          "metadata": {},
          "output_type": "display_data"
        }
      ],
      "source": [
        "plt.figure(figsize=(12, 6))\n",
        "plt.subplot(1, 2, 1)\n",
        "plt.hist(data['Visibility (10m)'], bins=30, color='skyblue', alpha=0.7, edgecolor='black', density=True, label='Histogram')\n",
        "\n",
        "plt.subplot(1, 2, 2)\n",
        "sns.boxplot(x=data['Visibility (10m)'])\n",
        "plt.title('Box Plot of Visbility')\n",
        "plt.show()"
      ]
    },
    {
      "cell_type": "markdown",
      "metadata": {
        "id": "zRRzGa9dBl-S"
      },
      "source": [
        "Dew point temperature"
      ]
    },
    {
      "cell_type": "code",
      "execution_count": null,
      "metadata": {
        "id": "_yeg4bQIRQAo"
      },
      "outputs": [],
      "source": []
    },
    {
      "cell_type": "markdown",
      "metadata": {
        "id": "i7i2cPMSqecl"
      },
      "source": [
        "**Data Partition**"
      ]
    },
    {
      "cell_type": "code",
      "execution_count": null,
      "metadata": {
        "id": "a4xnq--m7HGC"
      },
      "outputs": [],
      "source": [
        "y = data[\"Rented Bike Count\"]\n",
        "X = data.drop([\"Rented Bike Count\", \"Date\"], axis=1)\n",
        "\n",
        "X_train, X_test, y_train, y_test = train_test_split(X, y, test_size=0.4, random_state=42)\n",
        "\n",
        "X_train, X_val, y_train, y_val = train_test_split(X_train, y_train, test_size=0.5, random_state=1)"
      ]
    },
    {
      "cell_type": "markdown",
      "metadata": {},
      "source": [
        "**Exploring features**"
      ]
    },
    {
      "cell_type": "code",
      "execution_count": 6,
      "metadata": {},
      "outputs": [
        {
          "ename": "NameError",
          "evalue": "name 'data' is not defined",
          "output_type": "error",
          "traceback": [
            "\u001b[1;31m---------------------------------------------------------------------------\u001b[0m",
            "\u001b[1;31mNameError\u001b[0m                                 Traceback (most recent call last)",
            "Cell \u001b[1;32mIn[6], line 1\u001b[0m\n\u001b[1;32m----> 1\u001b[0m YX \u001b[38;5;241m=\u001b[39m pd\u001b[38;5;241m.\u001b[39mconcat([data[\u001b[38;5;124m'\u001b[39m\u001b[38;5;124mRented Bike Count\u001b[39m\u001b[38;5;124m'\u001b[39m], X], axis\u001b[38;5;241m=\u001b[39m\u001b[38;5;241m1\u001b[39m)\n\u001b[0;32m      2\u001b[0m np\u001b[38;5;241m.\u001b[39mcorrcoef(YX\u001b[38;5;241m.\u001b[39mT)\n",
            "\u001b[1;31mNameError\u001b[0m: name 'data' is not defined"
          ]
        }
      ],
      "source": [
        "YX = pd.concat([data['Rented Bike Count'], X], axis=1)\n",
        "np.corrcoef(YX.T)"
      ]
    },
    {
      "cell_type": "markdown",
      "metadata": {
        "id": "bNkpgMzNqizH"
      },
      "source": [
        "**Baseline model**"
      ]
    },
    {
      "cell_type": "code",
      "execution_count": null,
      "metadata": {
        "id": "o0nWtz8e-DI4"
      },
      "outputs": [],
      "source": [
        "baseline_prediction = y_train.mean()\n",
        "baseline_mse = mean_squared_error(y_test, [baseline_prediction] * len(y_test))\n",
        "baseline_mae = mean_absolute_error(y_test, [baseline_prediction] * len(y_test))\n",
        "baseline_r2 = r2_score(y_test, [baseline_prediction] * len(y_test))"
      ]
    },
    {
      "cell_type": "code",
      "execution_count": null,
      "metadata": {
        "colab": {
          "base_uri": "https://localhost:8080/"
        },
        "id": "gNhXh65U-X2K",
        "outputId": "6fab30f3-5569-48bb-bbea-e1a56cf57c75"
      },
      "outputs": [
        {
          "name": "stdout",
          "output_type": "stream",
          "text": [
            "Baseline Model Performance:\n",
            "Mean Squared Error (MSE): 415046.8724771169\n",
            "Mean Absolute Error (MAE): 517.209267686245\n",
            "R2 Score: -9.834909514605528e-05\n"
          ]
        }
      ],
      "source": [
        "print(\"Baseline Model Performance:\")\n",
        "print(f\"Mean Squared Error (MSE): {baseline_mse}\")\n",
        "print(f\"Mean Absolute Error (MAE): {baseline_mae}\")\n",
        "print(f\"R2 Score: {baseline_r2}\")"
      ]
    },
    {
      "cell_type": "markdown",
      "metadata": {
        "id": "9hM0CqFMqp1m"
      },
      "source": [
        "**OLS model**"
      ]
    },
    {
      "cell_type": "code",
      "execution_count": null,
      "metadata": {
        "id": "baToa10af6VM"
      },
      "outputs": [],
      "source": [
        "reg = LinearRegression().fit(X_train, y_train)\n",
        "y_pred = reg.predict(X_test)\n"
      ]
    },
    {
      "cell_type": "code",
      "execution_count": null,
      "metadata": {
        "id": "YOtcScPPlrGa"
      },
      "outputs": [],
      "source": [
        "#from sklearn.metrics import mean_squared_error, mean_absolute_error, r2_score\n",
        "\n",
        "ols_mse = mean_squared_error(y_test, y_pred)\n",
        "ols_mae = mean_absolute_error(y_test, y_pred)\n",
        "ols_r2 = r2_score(y_test, y_pred)"
      ]
    },
    {
      "cell_type": "code",
      "execution_count": null,
      "metadata": {
        "colab": {
          "base_uri": "https://localhost:8080/"
        },
        "id": "LMsdkR-hlwlZ",
        "outputId": "517996b7-364f-4ddf-8327-5f21a0c2d1cb"
      },
      "outputs": [
        {
          "name": "stdout",
          "output_type": "stream",
          "text": [
            "OLS Regression Model Performance on Test Set:\n",
            "Mean Squared Error (MSE): 226015.8781047909\n",
            "Mean Absolute Error (MAE): 350.2757413354798\n",
            "R2 Score: 0.45539137492391657\n"
          ]
        }
      ],
      "source": [
        "print(\"OLS Regression Model Performance on Test Set:\")\n",
        "print(f\"Mean Squared Error (MSE): {ols_mse}\")\n",
        "print(f\"Mean Absolute Error (MAE): {ols_mae}\")\n",
        "print(f\"R2 Score: {ols_r2}\")"
      ]
    },
    {
      "cell_type": "code",
      "execution_count": null,
      "metadata": {
        "colab": {
          "base_uri": "https://localhost:8080/"
        },
        "id": "wD3ihupvnveJ",
        "outputId": "3dce31c1-41b0-4633-cd64-33b63ef7c48a"
      },
      "outputs": [
        {
          "name": "stdout",
          "output_type": "stream",
          "text": [
            "\n",
            "Comparison to Baseline:\n",
            "Improvement in MSE: 189030.99437232598\n",
            "Improvement in MAE: 166.9335263507652\n",
            "Improvement in R2: 0.4554897240190626\n"
          ]
        }
      ],
      "source": [
        "print(\"\\nComparison to Baseline:\")\n",
        "print(f\"Improvement in MSE: {baseline_mse - ols_mse}\")\n",
        "print(f\"Improvement in MAE: {baseline_mae - ols_mae}\")\n",
        "print(f\"Improvement in R2: {ols_r2 - baseline_r2}\")"
      ]
    },
    {
      "cell_type": "markdown",
      "metadata": {
        "id": "HcRA_kiLquh-"
      },
      "source": [
        "**Ridge Regression Model**"
      ]
    },
    {
      "cell_type": "code",
      "execution_count": null,
      "metadata": {
        "id": "i34Ep861ltif"
      },
      "outputs": [],
      "source": [
        "from sklearn.linear_model import Ridge\n",
        "from sklearn.model_selection import GridSearchCV"
      ]
    },
    {
      "cell_type": "code",
      "execution_count": null,
      "metadata": {
        "colab": {
          "base_uri": "https://localhost:8080/"
        },
        "id": "OJOmb0c9qGjm",
        "outputId": "d58d67ad-f850-40a9-d8ec-725b71bd984f"
      },
      "outputs": [
        {
          "name": "stdout",
          "output_type": "stream",
          "text": [
            "Optimal alpha for Ridge regression: 100\n",
            "\n",
            "Ridge Regression Model Performance on Test Set:\n",
            "Mean Squared Error (MSE): 225797.19190341167\n",
            "Mean Absolute Error (MAE): 349.78958733613666\n",
            "R2 Score: 0.4559183219351396\n"
          ]
        }
      ],
      "source": [
        "# Define the parameter grid for alpha values in Ridge regression\n",
        "param_grid = {'alpha': [0.1, 1, 10, 100, 1000]}\n",
        "\n",
        "ridge_model = Ridge()\n",
        "ridge_grid_search = GridSearchCV(ridge_model, param_grid, cv=5, scoring='neg_mean_squared_error')\n",
        "ridge_grid_search.fit(X_train, y_train)\n",
        "\n",
        "# Retrieve the best alpha value found by GridSearchCV\n",
        "best_alpha = ridge_grid_search.best_params_['alpha']\n",
        "print(f\"Optimal alpha for Ridge regression: {best_alpha}\")\n",
        "\n",
        "ridge_best_model = Ridge(alpha=best_alpha)\n",
        "ridge_best_model.fit(X_train, y_train)\n",
        "\n",
        "y_pred_ridge = ridge_best_model.predict(X_test)\n",
        "\n",
        "# Calculate performance metrics for the Ridge model\n",
        "ridge_mse = mean_squared_error(y_test, y_pred_ridge)\n",
        "ridge_mae = mean_absolute_error(y_test, y_pred_ridge)\n",
        "ridge_r2 = r2_score(y_test, y_pred_ridge)\n",
        "\n",
        "print(\"\\nRidge Regression Model Performance on Test Set:\")\n",
        "print(f\"Mean Squared Error (MSE): {ridge_mse}\")\n",
        "print(f\"Mean Absolute Error (MAE): {ridge_mae}\")\n",
        "print(f\"R2 Score: {ridge_r2}\")"
      ]
    },
    {
      "cell_type": "markdown",
      "metadata": {
        "id": "Sk1s65I4r1-M"
      },
      "source": [
        "**Lasso Model**"
      ]
    },
    {
      "cell_type": "code",
      "execution_count": null,
      "metadata": {
        "id": "tDFxjd6Urgco"
      },
      "outputs": [],
      "source": [
        "from sklearn.linear_model import Lasso\n"
      ]
    },
    {
      "cell_type": "code",
      "execution_count": null,
      "metadata": {
        "colab": {
          "base_uri": "https://localhost:8080/"
        },
        "id": "vo9ht8AMqyNB",
        "outputId": "d25aef3a-793f-485e-d48a-fd0f3aabac8b"
      },
      "outputs": [
        {
          "name": "stdout",
          "output_type": "stream",
          "text": [
            "Optimal alpha for Lasso regression: 1\n",
            "\n",
            "Lasso Regression Model Performance on Test Set:\n",
            "Mean Squared Error (MSE): 225905.09760096547\n",
            "Mean Absolute Error (MAE): 350.10450062663193\n",
            "R2 Score: 0.4556583120009906\n"
          ]
        }
      ],
      "source": [
        "param_grid = {'alpha': [0.001, 0.01, 0.1, 1, 10, 100]}  # You can add more values or fine-tune as needed\n",
        "\n",
        "lasso_model = Lasso(max_iter=10000)\n",
        "lasso_grid_search = GridSearchCV(lasso_model, param_grid, cv=5, scoring='neg_mean_squared_error')\n",
        "lasso_grid_search.fit(X_train, y_train)\n",
        "\n",
        "best_alpha = lasso_grid_search.best_params_['alpha']\n",
        "print(f\"Optimal alpha for Lasso regression: {best_alpha}\")\n",
        "\n",
        "lasso_best_model = Lasso(alpha=best_alpha, max_iter=10000)\n",
        "lasso_best_model.fit(X_train, y_train)\n",
        "\n",
        "y_pred_lasso = lasso_best_model.predict(X_test)\n",
        "\n",
        "lasso_mse = mean_squared_error(y_test, y_pred_lasso)\n",
        "lasso_mae = mean_absolute_error(y_test, y_pred_lasso)\n",
        "lasso_r2 = r2_score(y_test, y_pred_lasso)\n",
        "\n",
        "print(\"\\nLasso Regression Model Performance on Test Set:\")\n",
        "print(f\"Mean Squared Error (MSE): {lasso_mse}\")\n",
        "print(f\"Mean Absolute Error (MAE): {lasso_mae}\")\n",
        "print(f\"R2 Score: {lasso_r2}\")"
      ]
    }
  ],
  "metadata": {
    "colab": {
      "provenance": []
    },
    "kernelspec": {
      "display_name": "base",
      "language": "python",
      "name": "python3"
    },
    "language_info": {
      "codemirror_mode": {
        "name": "ipython",
        "version": 3
      },
      "file_extension": ".py",
      "mimetype": "text/x-python",
      "name": "python",
      "nbconvert_exporter": "python",
      "pygments_lexer": "ipython3",
      "version": "3.11.4"
    }
  },
  "nbformat": 4,
  "nbformat_minor": 0
}
